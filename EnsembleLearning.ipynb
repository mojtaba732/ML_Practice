{
  "nbformat": 4,
  "nbformat_minor": 0,
  "metadata": {
    "colab": {
      "name": "EnsembleLearning.ipynb",
      "provenance": [],
      "authorship_tag": "ABX9TyPLz2KI7ZGsrUjIxXkWMbkd",
      "include_colab_link": true
    },
    "kernelspec": {
      "name": "python3",
      "display_name": "Python 3"
    },
    "language_info": {
      "name": "python"
    }
  },
  "cells": [
    {
      "cell_type": "markdown",
      "metadata": {
        "id": "view-in-github",
        "colab_type": "text"
      },
      "source": [
        "<a href=\"https://colab.research.google.com/github/mojtaba732/ML_Practice/blob/main/EnsembleLearning.ipynb\" target=\"_parent\"><img src=\"https://colab.research.google.com/assets/colab-badge.svg\" alt=\"Open In Colab\"/></a>"
      ]
    },
    {
      "cell_type": "code",
      "execution_count": 1,
      "metadata": {
        "id": "oE7FCA6EAgsu"
      },
      "outputs": [],
      "source": [
        "from sklearn.base import BaseEstimator\n",
        "from sklearn.base import ClassifierMixin\n",
        "from sklearn.preprocessing import LabelEncoder\n",
        "from sklearn.base import clone\n",
        "from sklearn.pipeline import _name_estimators\n",
        "import numpy as np\n",
        "import operator"
      ]
    },
    {
      "cell_type": "code",
      "source": [
        "class MajorityVoteClassifier(BaseEstimator, ClassifierMixin):\n",
        "  def __init__(self, classifiers, vote='classlabel', weights=None):\n",
        "    self.classifiers = classifiers\n",
        "    self.named_classifiers = {key: value for key,value in _name_estimators(classifiers)}\n",
        "    self.vote = vote\n",
        "    self.weights = weights\n",
        "  \n",
        "  def fit(self, X, y):\n",
        "    if self.vote not in ('probability', 'classlabel'):\n",
        "      raise ValueError(f\"vote must be 'probability' \"f\"or 'classlabel'\" f\"; got (vote={self.vote})\")\n",
        "\n",
        "    if self.weights and len(self.weights) != len(self.classifiers):\n",
        "      raise ValueError(f'Number of classifiers and' f' weights must be equal' f'; got {len(self.weights)} weights,' f' {len(self.classifiers)} classifiers')\n",
        "\n",
        "    self.lablenc_ = LabelEncoder()\n",
        "    self.lablenc_.fit(y)\n",
        "    self.classes_ = self.lablenc_.classes_\n",
        "    self.classifiers_ = []\n",
        "\n",
        "    for clf in self.classifiers:\n",
        "      fitted_clf = clone(clf).fit(X,self.lablenc_.transform(y))\n",
        "      self.classifiers_.append(fitted_clf)\n",
        "\n",
        "    return self\n",
        "\n",
        "    def predict(self, X):\n",
        "      if self.vote == 'probability':\n",
        "        maj_vote = np.argmax(self.predict_proba(X), axis=1)\n",
        "      else :\n",
        "        predictions = np.asarray([clf.predict(X) for clf in self.classifiers_]).T\n",
        "        maj_vote = np.apply_along_axis(lambda x: np.argmax(np.bincount(x, weights=self.weights)),axis=1, arr=predictions)\n",
        "      maj_vote = self.lablenc_.inverse_transform(maj_vote)\n",
        "      return maj_vote\n",
        "    \n",
        "    def predict_proba(self, X):\n",
        "      probas = np.asarray([clf.predict_proba(X) for clf in self.classifiers_])\n",
        "      avg_proba = np.average(probas, axis=0,weights=self.weights)\n",
        "      return avg_proba\n",
        "    \n",
        "    def get_params(self, deep=True):\n",
        "      if not deep:\n",
        "        return super().get_params(deep=False)\n",
        "      else:\n",
        "        out = self.named_classifiers.copy()\n",
        "        for name, step in self.named_classifiers.items():\n",
        "          for key, value in step.get_params(deep=True).items():\n",
        "            out[f'{name}__{key}'] = value\n",
        "        return out"
      ],
      "metadata": {
        "id": "alxWA5N4A2vI"
      },
      "execution_count": null,
      "outputs": []
    }
  ]
}