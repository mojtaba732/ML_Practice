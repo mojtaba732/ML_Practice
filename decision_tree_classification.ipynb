{
  "nbformat": 4,
  "nbformat_minor": 0,
  "metadata": {
    "colab": {
      "provenance": [],
      "authorship_tag": "ABX9TyM5ZS4JgvSisEscXqCcviKI",
      "include_colab_link": true
    },
    "kernelspec": {
      "name": "python3",
      "display_name": "Python 3"
    },
    "language_info": {
      "name": "python"
    }
  },
  "cells": [
    {
      "cell_type": "markdown",
      "metadata": {
        "id": "view-in-github",
        "colab_type": "text"
      },
      "source": [
        "<a href=\"https://colab.research.google.com/github/mojtaba732/ML_Practice/blob/main/decision_tree_classification.ipynb\" target=\"_parent\"><img src=\"https://colab.research.google.com/assets/colab-badge.svg\" alt=\"Open In Colab\"/></a>"
      ]
    },
    {
      "cell_type": "code",
      "execution_count": null,
      "metadata": {
        "id": "u5GjwiEPWd_p"
      },
      "outputs": [],
      "source": [
        "import numpy as np\n",
        "from collections import Counter"
      ]
    },
    {
      "cell_type": "code",
      "source": [
        "def entropy(x):\n",
        "  h = np.bincount(x)\n",
        "  ps = h / len(x)\n",
        "  return -np.sum([p*np.log2(p) for p in ps if p>0])"
      ],
      "metadata": {
        "id": "P4ohbd4piHLf"
      },
      "execution_count": null,
      "outputs": []
    },
    {
      "cell_type": "code",
      "source": [
        "class Node:\n",
        "  def __init__(self,feature = None, threshold = None, left = None,\n",
        "                              right = None, *,value = None ):\n",
        "    self.feature = feature\n",
        "    self.threshold = threshold\n",
        "    self.left = left\n",
        "    self.right = right\n",
        "    self.value = value\n",
        "\n",
        "  def is_leaf_node(self):\n",
        "    return self.value is not None"
      ],
      "metadata": {
        "id": "dVrv0fZnpIXS"
      },
      "execution_count": null,
      "outputs": []
    },
    {
      "cell_type": "code",
      "source": [
        "class DecisionTree:\n",
        "  def __init__(self,min_sample_split = 2, max_depth = 100, n_features = None):\n",
        "    self.min_sample_split = min_sample_split\n",
        "    self.max_depth = max_depth\n",
        "    self.n_features = n_features\n",
        "    self.root = None\n",
        "\n",
        "  def fit(self,X,y):\n",
        "    #Grow tree\n",
        "    self.n_features = X.shape[1] if not self.n_features else min(self.n_features,X.shape[1])\n",
        "    self.root = self._grow_tree(X,y)\n",
        "\n",
        "\n",
        "  def _grow_tree(self,X,y,depth = 0):\n",
        "    n_samples , n_feats = X.shape\n",
        "    n_labels = len(np.unique(y))\n",
        "\n",
        "    #stoping criteria\n",
        "    if (depth >= self.max_depth\n",
        "        or n_labels ==1\n",
        "        or n_samples < self.min_sample_split):\n",
        "      leaf_value = self._most_common_label(y)\n",
        "      return Node(value = leaf_value)\n",
        "\n",
        "    feature_idxs = np.random.choice(n_feats, self.n_features,replace=False)\n",
        "    #Greedy search\n",
        "    best_feature, best_threshold = self._best_criteria(X,y,feature_idxs)\n",
        "    left_idxs , right_idxs = self._split(X[:,best_feature],best_threshold)\n",
        "    left = self._grow_tree(X[left_idxs,:],y[left_idxs],depth+1)\n",
        "    right = self._grow_tree(X[right_idxs,:],y[right_idxs],depth+1)\n",
        "    return Node(best_feature, best_threshold, left, right)\n",
        "\n",
        "\n",
        "  def _most_common_label(self,y):\n",
        "    counter =  Counter(y)\n",
        "    most_common = counter.most_common(1)[0][0]\n",
        "    return most_common\n",
        "\n",
        "  def _best_criteria(self,X,y,feature_idxs):\n",
        "    best_gain = -1\n",
        "    split_idx, split_thresh = None,None\n",
        "    for f_idx in feature_idxs:\n",
        "      X_column = X[:,f_idx]\n",
        "      thresholds = np.unique(X_column)\n",
        "      for threshold in thresholds:\n",
        "        gain = self._information_gain(y,X_column,threshold)\n",
        "        if gain > best_gain:\n",
        "          best_gain = gain\n",
        "          split_thresh = threshold\n",
        "          split_idx = f_idx\n",
        "\n",
        "    return split_idx,split_thresh\n",
        "\n",
        "  def _information_gain(self,y,X_column,split_thresh):\n",
        "    #Parent Entroy\n",
        "    parent_entropy = entropy(y)\n",
        "\n",
        "    #Generate split\n",
        "    left_idx, right_idx = self._split(X_column,split_thresh)\n",
        "    if len(left_idx) == 0 or len(right_idx)==0 :\n",
        "      return 0\n",
        "    #Calculate IG\n",
        "    n = len(y)\n",
        "    n_l , n_r = len(left_idx) , len(right_idx)\n",
        "    e_l , e_r = entropy(y[left_idx]) , entropy(y[right_idx])\n",
        "    child_entropy = (n_l/n)*e_l+(n_r/n)*e_r\n",
        "    ig =parent_entropy - child_entropy\n",
        "    return ig\n",
        "\n",
        "\n",
        "  def _split(self, X_column,split_thresh):\n",
        "    left_idx = np.argwhere(X_column <= split_thresh).flatten()\n",
        "    right_idx = np.argwhere(X_column > split_thresh).flatten()\n",
        "    return left_idx,right_idx\n",
        "\n",
        "\n",
        "\n",
        "\n",
        "  def predict(self,X):\n",
        "    #Traverse tree\n",
        "    return np.array([self._traverse_tree(x,self.root) for x in X])\n",
        "\n",
        "  def _traverse_tree(self,x,node):\n",
        "    if node.is_leaf_node():\n",
        "      return node.value\n",
        "\n",
        "    if x[node.feature] <= node.threshold :\n",
        "      return self._traverse_tree(x,node.left)\n",
        "    return self._traverse_tree(x,node.right)\n",
        "\n",
        "\n"
      ],
      "metadata": {
        "id": "jOiRS-OstFUh"
      },
      "execution_count": null,
      "outputs": []
    },
    {
      "cell_type": "code",
      "source": [
        "from sklearn import datasets\n",
        "from sklearn.model_selection import train_test_split\n",
        "\n",
        "def accuracy(y_true,y_pred):\n",
        "  accuracy = np.sum(y_true == y_pred)/len(y_true)\n",
        "  return accuracy\n",
        "\n",
        "\n",
        "data =  datasets.load_breast_cancer()\n",
        "X = data.data\n",
        "y = data.target\n",
        "\n",
        "\n",
        "X_train, X_test, y_train, y_test = train_test_split(X,y,test_size=0.2,random_state=5)\n",
        "clf = DecisionTree(max_depth=10)\n",
        "clf.fit(X_train,y_train)\n",
        "y_pred = clf.predict(X_test)\n",
        "acc = accuracy(y_test,y_pred)\n",
        "print(f\"The Accuracy is {acc}\")"
      ],
      "metadata": {
        "colab": {
          "base_uri": "https://localhost:8080/"
        },
        "id": "Y2WpbdqrYpDG",
        "outputId": "e981bc9a-6854-4f69-b102-e2ae63b7c603"
      },
      "execution_count": null,
      "outputs": [
        {
          "output_type": "stream",
          "name": "stdout",
          "text": [
            "The Accuracy is 0.9473684210526315\n"
          ]
        }
      ]
    }
  ]
}