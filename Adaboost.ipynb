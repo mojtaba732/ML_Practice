{
  "nbformat": 4,
  "nbformat_minor": 0,
  "metadata": {
    "colab": {
      "provenance": [],
      "authorship_tag": "ABX9TyNALPz0V7kZrqr4Pq2qrvBE",
      "include_colab_link": true
    },
    "kernelspec": {
      "name": "python3",
      "display_name": "Python 3"
    },
    "language_info": {
      "name": "python"
    }
  },
  "cells": [
    {
      "cell_type": "markdown",
      "metadata": {
        "id": "view-in-github",
        "colab_type": "text"
      },
      "source": [
        "<a href=\"https://colab.research.google.com/github/mojtaba732/ML_Practice/blob/main/Adaboost.ipynb\" target=\"_parent\"><img src=\"https://colab.research.google.com/assets/colab-badge.svg\" alt=\"Open In Colab\"/></a>"
      ]
    },
    {
      "cell_type": "code",
      "execution_count": null,
      "metadata": {
        "id": "qItWEEkxzCUD"
      },
      "outputs": [],
      "source": [
        "import numpy as np\n",
        "import matplotlib.pyplot as plt"
      ]
    },
    {
      "cell_type": "markdown",
      "source": [
        "**Performance vs Error Plot**"
      ],
      "metadata": {
        "id": "epxvcbsOmEai"
      }
    },
    {
      "cell_type": "code",
      "source": [
        "alpha = lambda x:0.5*np.log((1-x)/x)\n",
        "errors = np.arange(0.01,1,0.01)\n",
        "plt.figure(figsize=(6,4))\n",
        "plt.xlabel(\"error\")\n",
        "plt.ylabel(\"alpha\")\n",
        "plt.plot(errors,alpha(errors))\n"
      ],
      "metadata": {
        "colab": {
          "base_uri": "https://localhost:8080/",
          "height": 405
        },
        "id": "_bggZwIRl8NJ",
        "outputId": "3839c538-3e69-4106-a046-dcdcaa931feb"
      },
      "execution_count": null,
      "outputs": [
        {
          "output_type": "execute_result",
          "data": {
            "text/plain": [
              "[<matplotlib.lines.Line2D at 0x7fc6a85175e0>]"
            ]
          },
          "metadata": {},
          "execution_count": 3
        },
        {
          "output_type": "display_data",
          "data": {
            "text/plain": [
              "<Figure size 600x400 with 1 Axes>"
            ],
            "image/png": "[encoded data removed]"
          },
          "metadata": {}
        }
      ]
    },
    {
      "cell_type": "code",
      "source": [
        "class DecisionStump:\n",
        "  def __init__(self):\n",
        "    self.polarity = 1\n",
        "    self.feature_idx = None\n",
        "    self.split_threshold = None\n",
        "    self.alpha = None\n",
        "\n",
        "  def predict(self,X):\n",
        "    n_samples = X.shape[0]\n",
        "    X_column = X[:,self.feature_idx]\n",
        "    predictions = np.ones(n_samples)\n",
        "    if self.polarity == 1:\n",
        "      predictions[X_column<self.split_threshold]=-1\n",
        "    else:\n",
        "      predictions[X_column>self.split_threshold]=-1\n",
        "    return predictions\n",
        "\n"
      ],
      "metadata": {
        "id": "xMu3zT9p5aUc"
      },
      "execution_count": null,
      "outputs": []
    },
    {
      "cell_type": "code",
      "source": [
        "class AdaBoost:\n",
        "  def __init__(self,num_classifiers=5):\n",
        "    self.num_classifiers = num_classifiers\n",
        "    self.classifiers = None\n",
        "\n",
        "  def fit(self,X,y):\n",
        "    n_samples, n_features = X.shape\n",
        "    #initialize weights\n",
        "    w = np.full(n_samples,(1/n_samples))\n",
        "    self.classifiers = []\n",
        "    for _ in range(self.num_classifiers):\n",
        "      classifier = DecisionStump()\n",
        "      min_error = float('inf')\n",
        "      for feature_i in range(n_features):\n",
        "        X_column = X[:,feature_i]\n",
        "        thresholds = np.unique(X_column)\n",
        "        for threshold in thresholds:\n",
        "          p = 1 #polarity\n",
        "          predictions = np.ones(n_samples)\n",
        "          predictions[X_column<threshold] = -1\n",
        "          missclassified = w[y != predictions]\n",
        "          error = sum(missclassified)\n",
        "\n",
        "          if error > 0.5:\n",
        "            error = 1 - error\n",
        "            p = -1\n",
        "          if error < min_error:\n",
        "            min_error = error\n",
        "            classifier.polarity = p\n",
        "            classifier.split_threshold = threshold\n",
        "            classifier.feature_idx = feature_i\n",
        "      EPS = 1e-10\n",
        "      classifier.alpha = 0.5*np.log((1-error)/(error+EPS))\n",
        "      predictions = classifier.predict(X)\n",
        "      w *= np.exp(-classifier.alpha*y*predictions)\n",
        "      w /= np.sum(w)\n",
        "      self.classifiers.append(classifier)\n",
        "\n",
        "  def predict(self,X):\n",
        "    classifier_preds = [clf.alpha*clf.predict(X) for clf in self.classifiers]\n",
        "    y_pred = np.sum(classifier_preds,axis=0)\n",
        "    y_pred = np.sign(y_pred)\n",
        "    return y_pred\n",
        "\n",
        "\n",
        "\n"
      ],
      "metadata": {
        "id": "agl6rbPFq459"
      },
      "execution_count": null,
      "outputs": []
    },
    {
      "cell_type": "markdown",
      "source": [
        "**Test Code**"
      ],
      "metadata": {
        "id": "_wHZ0RYcwzP-"
      }
    },
    {
      "cell_type": "code",
      "source": [
        "from sklearn import datasets\n",
        "from sklearn.model_selection import train_test_split\n",
        "\n",
        "def accuracy(y_true,y_pred):\n",
        "  accuracy = np.sum(y_true == y_pred)/len(y_true)\n",
        "  return accuracy\n",
        "\n",
        "\n",
        "data =  datasets.load_breast_cancer()\n",
        "X = data.data\n",
        "y = data.target\n",
        "\n",
        "y[y == 0] = -1\n",
        "X_train, X_test, y_train, y_test = train_test_split(X,y,test_size=0.2,random_state=5)\n",
        "clf = AdaBoost(num_classifiers=5)\n",
        "clf.fit(X_train,y_train)\n",
        "y_pred = clf.predict(X_test)\n",
        "acc = accuracy(y_test,y_pred)\n",
        "print(f\"The Accuracy is {acc}\")"
      ],
      "metadata": {
        "colab": {
          "base_uri": "https://localhost:8080/"
        },
        "id": "N2hZhwJVw5cO",
        "outputId": "4af43339-68fc-4c74-a6e2-1e50e42b24fb"
      },
      "execution_count": null,
      "outputs": [
        {
          "output_type": "stream",
          "name": "stdout",
          "text": [
            "The Accuracy is 0.9473684210526315\n"
          ]
        }
      ]
    }
  ]
}