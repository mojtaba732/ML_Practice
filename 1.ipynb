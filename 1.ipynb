{
  "nbformat": 4,
  "nbformat_minor": 0,
  "metadata": {
    "colab": {
      "name": "1.ipynb",
      "provenance": [],
      "toc_visible": true,
      "authorship_tag": "ABX9TyOs0FgLG7Fom8HA6VxrbIBN",
      "include_colab_link": true
    },
    "kernelspec": {
      "name": "python3",
      "display_name": "Python 3"
    },
    "language_info": {
      "name": "python"
    }
  },
  "cells": [
    {
      "cell_type": "markdown",
      "metadata": {
        "id": "view-in-github",
        "colab_type": "text"
      },
      "source": [
        "<a href=\"https://colab.research.google.com/github/mojtaba732/ML_Practice/blob/main/1.ipynb\" target=\"_parent\"><img src=\"https://colab.research.google.com/assets/colab-badge.svg\" alt=\"Open In Colab\"/></a>"
      ]
    },
    {
      "cell_type": "code",
      "execution_count": 24,
      "metadata": {
        "id": "oCPHz1vlWrjq"
      },
      "outputs": [],
      "source": [
        "import numpy as np\n",
        "import pandas as pd\n",
        "import matplotlib.pyplot as plt\n",
        "from matplotlib.colors import ListedColormap"
      ]
    },
    {
      "cell_type": "code",
      "source": [
        "df = pd.read_csv('https://archive.ics.uci.edu/ml/machine-learning-databases/iris/iris.data',header=None, encoding='utf-8')"
      ],
      "metadata": {
        "id": "qHQi5vTrbgAL"
      },
      "execution_count": 25,
      "outputs": []
    },
    {
      "cell_type": "code",
      "source": [
        "df.tail()"
      ],
      "metadata": {
        "colab": {
          "base_uri": "https://localhost:8080/",
          "height": 206
        },
        "id": "acO_eaImbuGi",
        "outputId": "588d8c95-2eba-4638-e016-5b0ffcc57d61"
      },
      "execution_count": 26,
      "outputs": [
        {
          "output_type": "execute_result",
          "data": {
            "text/plain": [
              "       0    1    2    3               4\n",
              "145  6.7  3.0  5.2  2.3  Iris-virginica\n",
              "146  6.3  2.5  5.0  1.9  Iris-virginica\n",
              "147  6.5  3.0  5.2  2.0  Iris-virginica\n",
              "148  6.2  3.4  5.4  2.3  Iris-virginica\n",
              "149  5.9  3.0  5.1  1.8  Iris-virginica"
            ],
            "text/html": [
              "\n",
              "  <div id=\"df-931c9dd7-95a6-4ffb-bef3-e940451f0add\">\n",
              "    <div class=\"colab-df-container\">\n",
              "      <div>\n",
              "<style scoped>\n",
              "    .dataframe tbody tr th:only-of-type {\n",
              "        vertical-align: middle;\n",
              "    }\n",
              "\n",
              "    .dataframe tbody tr th {\n",
              "        vertical-align: top;\n",
              "    }\n",
              "\n",
              "    .dataframe thead th {\n",
              "        text-align: right;\n",
              "    }\n",
              "</style>\n",
              "<table border=\"1\" class=\"dataframe\">\n",
              "  <thead>\n",
              "    <tr style=\"text-align: right;\">\n",
              "      <th></th>\n",
              "      <th>0</th>\n",
              "      <th>1</th>\n",
              "      <th>2</th>\n",
              "      <th>3</th>\n",
              "      <th>4</th>\n",
              "    </tr>\n",
              "  </thead>\n",
              "  <tbody>\n",
              "    <tr>\n",
              "      <th>145</th>\n",
              "      <td>6.7</td>\n",
              "      <td>3.0</td>\n",
              "      <td>5.2</td>\n",
              "      <td>2.3</td>\n",
              "      <td>Iris-virginica</td>\n",
              "    </tr>\n",
              "    <tr>\n",
              "      <th>146</th>\n",
              "      <td>6.3</td>\n",
              "      <td>2.5</td>\n",
              "      <td>5.0</td>\n",
              "      <td>1.9</td>\n",
              "      <td>Iris-virginica</td>\n",
              "    </tr>\n",
              "    <tr>\n",
              "      <th>147</th>\n",
              "      <td>6.5</td>\n",
              "      <td>3.0</td>\n",
              "      <td>5.2</td>\n",
              "      <td>2.0</td>\n",
              "      <td>Iris-virginica</td>\n",
              "    </tr>\n",
              "    <tr>\n",
              "      <th>148</th>\n",
              "      <td>6.2</td>\n",
              "      <td>3.4</td>\n",
              "      <td>5.4</td>\n",
              "      <td>2.3</td>\n",
              "      <td>Iris-virginica</td>\n",
              "    </tr>\n",
              "    <tr>\n",
              "      <th>149</th>\n",
              "      <td>5.9</td>\n",
              "      <td>3.0</td>\n",
              "      <td>5.1</td>\n",
              "      <td>1.8</td>\n",
              "      <td>Iris-virginica</td>\n",
              "    </tr>\n",
              "  </tbody>\n",
              "</table>\n",
              "</div>\n",
              "      <button class=\"colab-df-convert\" onclick=\"convertToInteractive('df-931c9dd7-95a6-4ffb-bef3-e940451f0add')\"\n",
              "              title=\"Convert this dataframe to an interactive table.\"\n",
              "              style=\"display:none;\">\n",
              "        \n",
              "  <svg xmlns=\"http://www.w3.org/2000/svg\" height=\"24px\"viewBox=\"0 0 24 24\"\n",
              "       width=\"24px\">\n",
              "    <path d=\"M0 0h24v24H0V0z\" fill=\"none\"/>\n",
              "    <path d=\"M18.56 5.44l.94 2.06.94-2.06 2.06-.94-2.06-.94-.94-2.06-.94 2.06-2.06.94zm-11 1L8.5 8.5l.94-2.06 2.06-.94-2.06-.94L8.5 2.5l-.94 2.06-2.06.94zm10 10l.94 2.06.94-2.06 2.06-.94-2.06-.94-.94-2.06-.94 2.06-2.06.94z\"/><path d=\"M17.41 7.96l-1.37-1.37c-.4-.4-.92-.59-1.43-.59-.52 0-1.04.2-1.43.59L10.3 9.45l-7.72 7.72c-.78.78-.78 2.05 0 2.83L4 21.41c.39.39.9.59 1.41.59.51 0 1.02-.2 1.41-.59l7.78-7.78 2.81-2.81c.8-.78.8-2.07 0-2.86zM5.41 20L4 18.59l7.72-7.72 1.47 1.35L5.41 20z\"/>\n",
              "  </svg>\n",
              "      </button>\n",
              "      \n",
              "  <style>\n",
              "    .colab-df-container {\n",
              "      display:flex;\n",
              "      flex-wrap:wrap;\n",
              "      gap: 12px;\n",
              "    }\n",
              "\n",
              "    .colab-df-convert {\n",
              "      background-color: #E8F0FE;\n",
              "      border: none;\n",
              "      border-radius: 50%;\n",
              "      cursor: pointer;\n",
              "      display: none;\n",
              "      fill: #1967D2;\n",
              "      height: 32px;\n",
              "      padding: 0 0 0 0;\n",
              "      width: 32px;\n",
              "    }\n",
              "\n",
              "    .colab-df-convert:hover {\n",
              "      background-color: #E2EBFA;\n",
              "      box-shadow: 0px 1px 2px rgba(60, 64, 67, 0.3), 0px 1px 3px 1px rgba(60, 64, 67, 0.15);\n",
              "      fill: #174EA6;\n",
              "    }\n",
              "\n",
              "    [theme=dark] .colab-df-convert {\n",
              "      background-color: #3B4455;\n",
              "      fill: #D2E3FC;\n",
              "    }\n",
              "\n",
              "    [theme=dark] .colab-df-convert:hover {\n",
              "      background-color: #434B5C;\n",
              "      box-shadow: 0px 1px 3px 1px rgba(0, 0, 0, 0.15);\n",
              "      filter: drop-shadow(0px 1px 2px rgba(0, 0, 0, 0.3));\n",
              "      fill: #FFFFFF;\n",
              "    }\n",
              "  </style>\n",
              "\n",
              "      <script>\n",
              "        const buttonEl =\n",
              "          document.querySelector('#df-931c9dd7-95a6-4ffb-bef3-e940451f0add button.colab-df-convert');\n",
              "        buttonEl.style.display =\n",
              "          google.colab.kernel.accessAllowed ? 'block' : 'none';\n",
              "\n",
              "        async function convertToInteractive(key) {\n",
              "          const element = document.querySelector('#df-931c9dd7-95a6-4ffb-bef3-e940451f0add');\n",
              "          const dataTable =\n",
              "            await google.colab.kernel.invokeFunction('convertToInteractive',\n",
              "                                                     [key], {});\n",
              "          if (!dataTable) return;\n",
              "\n",
              "          const docLinkHtml = 'Like what you see? Visit the ' +\n",
              "            '<a target=\"_blank\" href=https://colab.research.google.com/notebooks/data_table.ipynb>data table notebook</a>'\n",
              "            + ' to learn more about interactive tables.';\n",
              "          element.innerHTML = '';\n",
              "          dataTable['output_type'] = 'display_data';\n",
              "          await google.colab.output.renderOutput(dataTable, element);\n",
              "          const docLink = document.createElement('div');\n",
              "          docLink.innerHTML = docLinkHtml;\n",
              "          element.appendChild(docLink);\n",
              "        }\n",
              "      </script>\n",
              "    </div>\n",
              "  </div>\n",
              "  "
            ]
          },
          "metadata": {},
          "execution_count": 26
        }
      ]
    },
    {
      "cell_type": "code",
      "source": [
        "y = df.iloc[0:100, 4].values\n",
        "y = np.where(y == 'Iris-setosa', 0, 1)\n",
        "X = df.iloc[0:100, [0, 2]].values\n",
        "plt.scatter(X[:50, 0], X[:50, 1],color='red', marker='o', label='Setosa')\n",
        "plt.scatter(X[50:100, 0], X[50:100, 1],color='blue', marker='s', label='Versicolor')\n",
        "plt.xlabel('Sepal length [cm]')\n",
        "plt.ylabel('Petal length [cm]')\n",
        "plt.legend(loc='upper left')\n",
        "plt.show()"
      ],
      "metadata": {
        "colab": {
          "base_uri": "https://localhost:8080/",
          "height": 279
        },
        "id": "8PmPhN9ocdSC",
        "outputId": "fc5a07ed-6499-4f01-9f8d-40c9d28bfcfd"
      },
      "execution_count": 27,
      "outputs": [
        {
          "output_type": "display_data",
          "data": {
            "text/plain": [
              "<Figure size 432x288 with 1 Axes>"
            ],
            "image/png": "[encoded data removed]"
          },
          "metadata": {
            "needs_background": "light"
          }
        }
      ]
    },
    {
      "cell_type": "code",
      "source": [
        "class Perceptron:\n",
        "  def __init__(self, eta=0.01, n_iter=50, random_state=1):\n",
        "    self.eta = eta\n",
        "    self.n_iter = n_iter\n",
        "    self.random_state = random_state\n",
        "\n",
        "  def fit(self, X, y):\n",
        "    rgen = np.random.RandomState(self.random_state)\n",
        "    self.w_ = rgen.normal(loc=0.0, scale=0.01,size=X.shape[1])\n",
        "    self.b_ = np.float_(0.)\n",
        "    self.errors_ = []\n",
        "    for _ in range(self.n_iter):\n",
        "      errors = 0\n",
        "      for xi, target in zip(X, y):\n",
        "        update = self.eta * (target - self.predict(xi))\n",
        "        self.w_ += update * xi\n",
        "        self.b_ += update\n",
        "        errors += int(update != 0.0)\n",
        "      self.errors_.append(errors)\n",
        "    return self\n",
        "\n",
        "  def net_input(self, X):\n",
        "    return np.dot(X, self.w_) + self.b_\n",
        "    \n",
        "  def predict(self, X):\n",
        "    return np.where(self.net_input(X) >= 0.0, 1, 0)"
      ],
      "metadata": {
        "id": "sySpkkGja9Xy"
      },
      "execution_count": null,
      "outputs": []
    },
    {
      "cell_type": "code",
      "source": [
        "ppn = Perceptron(eta=0.1, n_iter=10)\n",
        "ppn.fit(X, y)\n",
        "plt.plot(range(1, len(ppn.errors_) + 1),ppn.errors_, marker='o')\n",
        "plt.xlabel('Epochs')\n",
        "plt.ylabel('Number of updates')\n",
        "plt.show()"
      ],
      "metadata": {
        "colab": {
          "base_uri": "https://localhost:8080/",
          "height": 279
        },
        "id": "QiABs-B1sSLA",
        "outputId": "599da841-57b6-4d07-ea09-5c4e203efbcf"
      },
      "execution_count": null,
      "outputs": [
        {
          "output_type": "display_data",
          "data": {
            "text/plain": [
              "<Figure size 432x288 with 1 Axes>"
            ],
            "image/png": "[encoded data removed]"
          },
          "metadata": {
            "needs_background": "light"
          }
        }
      ]
    },
    {
      "cell_type": "code",
      "source": [
        "def plot_decision_regions(X, y, classifier, resolution=0.02):\n",
        "  markers = ('o', 's', '^', 'v', '<')\n",
        "  colors = ('red', 'blue', 'lightgreen', 'gray', 'cyan')\n",
        "  cmap = ListedColormap(colors[:len(np.unique(y))])\n",
        "# plot the decision surface\n",
        "  x1_min, x1_max = X[:, 0].min() - 1, X[:, 0].max() + 1\n",
        "  x2_min, x2_max = X[:, 1].min() - 1, X[:, 1].max() + 1\n",
        "  xx1, xx2 = np.meshgrid(np.arange(x1_min, x1_max, resolution),\n",
        "  np.arange(x2_min, x2_max, resolution))\n",
        "  lab = classifier.predict(np.array([xx1.ravel(), xx2.ravel()]).T)\n",
        "  lab = lab.reshape(xx1.shape)\n",
        "  plt.contourf(xx1, xx2, lab, alpha=0.3, cmap=cmap)\n",
        "  plt.xlim(xx1.min(), xx1.max())\n",
        "  plt.ylim(xx2.min(), xx2.max())\n",
        "  for idx, cl in enumerate(np.unique(y)):\n",
        "    plt.scatter(x=X[y == cl, 0],y=X[y == cl, 1],alpha=0.8,c=colors[idx],marker=markers[idx],label=f'Class {cl}',edgecolor='black')"
      ],
      "metadata": {
        "id": "s7gWLkqsuwBO"
      },
      "execution_count": null,
      "outputs": []
    },
    {
      "cell_type": "code",
      "source": [
        "plot_decision_regions(X, y, classifier=ppn)\n",
        "plt.xlabel('Sepal length [cm]')\n",
        "plt.ylabel('Petal length [cm]')\n",
        "plt.legend(loc='upper left')\n",
        "plt.show()"
      ],
      "metadata": {
        "colab": {
          "base_uri": "https://localhost:8080/",
          "height": 280
        },
        "id": "gTPRCIzDxmO_",
        "outputId": "dd252435-bd64-43a1-e610-140d89dc05f7"
      },
      "execution_count": null,
      "outputs": [
        {
          "output_type": "display_data",
          "data": {
            "text/plain": [
              "<Figure size 432x288 with 1 Axes>"
            ],
            "image/png": "[encoded data removed]"
          },
          "metadata": {
            "needs_background": "light"
          }
        }
      ]
    },
    {
      "cell_type": "code",
      "source": [
        "class AdalineGD:\n",
        "  \"\"\"ADAptive LInear NEuron classifier.\n",
        "  Parameters\n",
        "  ------------\n",
        "  eta : float\n",
        "  Learning rate (between 0.0 and 1.0)\n",
        "  n_iter : int\n",
        "  Passes over the training dataset.\n",
        "  random_state : int\n",
        "  Random number generator seed for random weight initialization.\n",
        "  Attributes\n",
        "-----------\n",
        "  w_ : 1d-array Weights after fitting.\n",
        "  b_ : Scalar Bias unit after fitting.\n",
        "  losses_ : list Mean squared error loss function values in each epoch.\n",
        "  \"\"\"\n",
        "  def __init__(self, eta=0.01, n_iter=50, random_state=1):\n",
        "    self.eta = eta\n",
        "    self.n_iter = n_iter\n",
        "    self.random_state = random_state\n",
        "  def fit(self, X, y):\n",
        "    \"\"\" Fit training data.\n",
        "    Parameters\n",
        "    ----------\n",
        "    X : {array-like}, shape = [n_examples, n_features]\n",
        "    Training vectors, where n_examples\n",
        "    is the number of examples and  n_features is the number of features.\n",
        "    y : array-like, shape = [n_examples] Target values.\n",
        "    Returns\n",
        "    -------\n",
        "     self : object\n",
        "   \"\"\"\n",
        "    rgen = np.random.RandomState(self.random_state)\n",
        "    self.w_ = rgen.normal(loc=0.0, scale=0.01, size=X.shape[1])\n",
        "    self.b_ = np.float_(0.)\n",
        "    self.losses_ = []\n",
        "    for i in range(self.n_iter):\n",
        "      net_input = self.net_input(X)\n",
        "      output = self.activation(net_input)\n",
        "      errors = (y - output)\n",
        "      self.w_ += self.eta * 2.0 * X.T.dot(errors) / X.shape[0]\n",
        "      self.b_ += self.eta * 2.0 * errors.mean()\n",
        "      loss = (errors**2).mean()\n",
        "      self.losses_.append(loss)\n",
        "    return self\n",
        "\n",
        "    def net_input(self, X):\n",
        "      \"\"\"Calculate net input\"\"\"\n",
        "      return np.dot(X, self.w_) + self.b_\n",
        "\n",
        "    def activation(self, X):\n",
        "      \"\"\"Compute linear activation\"\"\"\n",
        "      return X\n",
        "\n",
        "    def predict(self, X):\n",
        "      \"\"\"Return class label after unit step\"\"\"\n",
        "      return np.where(self.activation(self.net_input(X))>= 0.5, 1, 0)"
      ],
      "metadata": {
        "id": "SfnJSfjHbV70"
      },
      "execution_count": null,
      "outputs": []
    },
    {
      "cell_type": "markdown",
      "source": [
        "# **Improving gradient descent through feature scaling**"
      ],
      "metadata": {
        "id": "qG1_mQyylu8t"
      }
    },
    {
      "cell_type": "code",
      "source": [
        "X_std = np.copy(X)\n",
        "X_std[:,0] = (X[:,0] - X[:,0].mean()) / X[:,0].std()\n",
        "X_std[:,1] = (X[:,1] - X[:,1].mean()) / X[:,1].std()"
      ],
      "metadata": {
        "id": "u66Y3BUJl03d"
      },
      "execution_count": 30,
      "outputs": []
    },
    {
      "cell_type": "code",
      "source": [
        "ada_gd = AdalineGD( eta=0.5,n_iter=20)\n",
        "ada_gd.fit(X_std, y)"
      ],
      "metadata": {
        "id": "GNnxZf9gmrQT"
      },
      "execution_count": null,
      "outputs": []
    },
    {
      "cell_type": "markdown",
      "source": [
        "# **Large-scale machine learning and stochastic gradient descent**"
      ],
      "metadata": {
        "id": "5ymO1QV2n5Gt"
      }
    },
    {
      "cell_type": "code",
      "source": [
        "class AdalineSGD:\n",
        "  \"\"\"ADAptive LInear NEuron classifier.\n",
        "  Parameters\n",
        "  ------------\n",
        "  eta : float Learning rate (between 0.0 and 1.0)\n",
        "  n_iter : int Passes over the training dataset.\n",
        "  shuffle : bool (default: True) Shuffles training data every epoch if True to prevent cycles.\n",
        "  random_state : int Random number generator seed for random weight initialization.\n",
        "  Attributes\n",
        "  -----------\n",
        "  w_ : 1d-array Weights after fitting.\n",
        "  b_ : Scalar Bias unit after fitting.\n",
        "  losses_ : list Mean squared error loss function value averaged over all training examples in each epoch.\n",
        "  \"\"\"\n",
        "  def __init__(self, eta=0.01, n_iter=10,shuffle=True, random_state=None):\n",
        "    self.eta = eta\n",
        "    self.n_iter = n_iter\n",
        "    self.w_initialized = False\n",
        "    self.shuffle = shuffle\n",
        "    self.random_state = random_state\n",
        "\n",
        "  def fit(self, X, y):\n",
        "    \"\"\" Fit training data.\n",
        "    Parameters\n",
        "    ----------\n",
        "    X : {array-like}, shape = [n_examples, n_features]\n",
        "    Training vectors, where n_examples\n",
        "    is the number of examples and  n_features is the number of features.\n",
        "    y : array-like, shape = [n_examples] Target values.\n",
        "    Returns\n",
        "    -------\n",
        "    self : object\n",
        "    \"\"\"\n",
        "    self._initialize_weights(X.shape[1])\n",
        "    self.losses_ = []\n",
        "    for i in range(self.n_iter):\n",
        "      if self.shuffle:\n",
        "        X, y = self._shuffle(X, y)\n",
        "      losses = []\n",
        "      for xi, target in zip(X, y):\n",
        "        losses.append(self._update_weights(xi, target))\n",
        "      avg_loss = np.mean(losses)\n",
        "      self.losses_.append(avg_loss)\n",
        "    return self\n",
        "\n",
        "  def partial_fit(self, X, y):\n",
        "    \"\"\"Fit training data without reinitializing the weights\"\"\"\n",
        "    if not self.w_initialized:\n",
        "        self._initialize_weights(X.shape[1])\n",
        "    if y.ravel().shape[0] > 1:\n",
        "      for xi, target in zip(X, y):\n",
        "        self._update_weights(xi, target)\n",
        "    else:\n",
        "      self._update_weights(X, y)\n",
        "    return self\n",
        "\n",
        "  def _shuffle(self, X, y):\n",
        "      \"\"\"Shuffle training data\"\"\"\n",
        "      r = self.rgen.permutation(len(y))\n",
        "      return X[r], y[r]\n",
        "\n",
        "  def _initialize_weights(self, m):\n",
        "    \"\"\"Initialize weights to small random numbers\"\"\"\n",
        "    self.rgen = np.random.RandomState(self.random_state)\n",
        "    self.w_ = self.rgen.normal(loc=0.0, scale=0.01,size=m)\n",
        "    self.b_ = np.float_(0.)\n",
        "    self.w_initialized = True\n",
        "\n",
        "  def _update_weights(self, xi, target):\n",
        "    \"\"\"Apply Adaline learning rule to update the weights\"\"\"\n",
        "    output = self.activation(self.net_input(xi))\n",
        "    error = (target - output)\n",
        "    self.w_ += self.eta * 2.0 * xi * (error)\n",
        "    self.b_ += self.eta * 2.0 * error\n",
        "    loss = error**2\n",
        "    return loss\n",
        "\n",
        "  def net_input(self, X):\n",
        "    \"\"\"Calculate net input\"\"\"\n",
        "    return np.dot(X, self.w_) + self.b_\n",
        "\n",
        "  def activation(self, X):\n",
        "    \"\"\"Compute linear activation\"\"\"\n",
        "    return X\n",
        "\n",
        "  def predict(self, X):\n",
        "    \"\"\"Return class label after unit step\"\"\"\n",
        "    return np.where(self.activation(self.net_input(X))>= 0.5, 1, 0)"
      ],
      "metadata": {
        "id": "AUxr-INMn7le"
      },
      "execution_count": 28,
      "outputs": []
    },
    {
      "cell_type": "code",
      "source": [
        "ada_sgd = AdalineSGD(n_iter=15, eta=0.01, random_state=1)\n",
        "ada_sgd.fit(X_std, y)\n",
        "plot_decision_regions(X_std, y, classifier=ada_sgd)\n",
        "plt.title('Adaline - Stochastic gradient descent')\n",
        "plt.xlabel('Sepal length [standardized]')\n",
        "plt.ylabel('Petal length [standardized]')\n",
        "plt.legend(loc='upper left')\n",
        "plt.tight_layout()\n",
        "plt.show()\n",
        "plt.plot(range(1, len(ada_sgd.losses_) + 1), ada_sgd.losses_,marker='o')\n",
        "plt.xlabel('Epochs')\n",
        "plt.ylabel('Average loss')\n",
        "plt.tight_layout()\n",
        "plt.show()"
      ],
      "metadata": {
        "colab": {
          "base_uri": "https://localhost:8080/",
          "height": 577
        },
        "id": "2LIaY3OQyumu",
        "outputId": "c4254925-d22f-4ad1-9ca8-ae7c6609bf67"
      },
      "execution_count": 31,
      "outputs": [
        {
          "output_type": "display_data",
          "data": {
            "text/plain": [
              "<Figure size 432x288 with 1 Axes>"
            ],
            "image/png": "[encoded data removed]"
          },
          "metadata": {
            "needs_background": "light"
          }
        },
        {
          "output_type": "display_data",
          "data": {
            "text/plain": [
              "<Figure size 432x288 with 1 Axes>"
            ],
            "image/png": "[encoded data removed]"
          },
          "metadata": {
            "needs_background": "light"
          }
        }
      ]
    }
  ]
}