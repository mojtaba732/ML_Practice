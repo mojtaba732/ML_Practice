{
  "nbformat": 4,
  "nbformat_minor": 0,
  "metadata": {
    "colab": {
      "name": "Regularization.ipynb",
      "provenance": [],
      "authorship_tag": "ABX9TyNU1JtanfyXK1Mr069JadXN",
      "include_colab_link": true
    },
    "kernelspec": {
      "name": "python3",
      "display_name": "Python 3"
    },
    "language_info": {
      "name": "python"
    }
  },
  "cells": [
    {
      "cell_type": "markdown",
      "metadata": {
        "id": "view-in-github",
        "colab_type": "text"
      },
      "source": [
        "<a href=\"https://colab.research.google.com/github/mojtaba732/ML_Practice/blob/main/Regularization.ipynb\" target=\"_parent\"><img src=\"https://colab.research.google.com/assets/colab-badge.svg\" alt=\"Open In Colab\"/></a>"
      ]
    },
    {
      "cell_type": "code",
      "execution_count": 2,
      "metadata": {
        "id": "qJBZRl1_j_ZB"
      },
      "outputs": [],
      "source": [
        "import pandas as pd\n",
        "import numpy as np\n",
        "from sklearn.model_selection import train_test_split\n",
        "from sklearn.linear_model import LogisticRegression\n",
        "from sklearn.preprocessing import StandardScaler"
      ]
    },
    {
      "cell_type": "code",
      "source": [
        "df_wine = pd.read_csv('https://archive.ics.uci.edu/ml/machine-learning-databases/wine/wine.data', header=None)"
      ],
      "metadata": {
        "id": "6jd0AuLPsXMj"
      },
      "execution_count": 3,
      "outputs": []
    },
    {
      "cell_type": "code",
      "source": [
        "X, y = df_wine.iloc[:, 1:].values, df_wine.iloc[:, 0].values\n",
        "X_train, X_test, y_train, y_test = train_test_split(X, y,test_size=0.3,random_state=0,stratify=y)"
      ],
      "metadata": {
        "id": "0xp0V_0fstuD"
      },
      "execution_count": 4,
      "outputs": []
    },
    {
      "cell_type": "code",
      "source": [
        "sc = StandardScaler()\n",
        "sc.fit(X_train)\n",
        "X_train_std = sc.transform(X_train)\n",
        "X_test_std = sc.transform(X_test)"
      ],
      "metadata": {
        "id": "o5hQ5SImtUIy"
      },
      "execution_count": 8,
      "outputs": []
    },
    {
      "cell_type": "code",
      "source": [
        "lr = LogisticRegression(penalty='l1', C=1.0, solver='liblinear',multi_class='ovr')\n",
        "lr.fit(X_train_std, y_train)\n",
        "print('Training accuracy:', lr.score(X_train_std, y_train))"
      ],
      "metadata": {
        "colab": {
          "base_uri": "https://localhost:8080/"
        },
        "id": "SZ9tGXXGt2Z0",
        "outputId": "a4015400-1b4c-4aa7-e3d4-97a898d96e40"
      },
      "execution_count": 6,
      "outputs": [
        {
          "output_type": "stream",
          "name": "stdout",
          "text": [
            "Training accuracy: 1.0\n"
          ]
        }
      ]
    },
    {
      "cell_type": "code",
      "source": [
        "print('Test accuracy:', lr.score(X_test_std, y_test))"
      ],
      "metadata": {
        "colab": {
          "base_uri": "https://localhost:8080/"
        },
        "id": "Up90JQMDTz4k",
        "outputId": "10e761fe-d99c-4187-d666-8e927b77b2a7"
      },
      "execution_count": 9,
      "outputs": [
        {
          "output_type": "stream",
          "name": "stdout",
          "text": [
            "Test accuracy: 1.0\n"
          ]
        }
      ]
    },
    {
      "cell_type": "markdown",
      "source": [
        "the first intercept belongs to the model that fits class 1 versus classes 2 and 3, the second value is the intercept of the model that fits class 2 versus classes 1 and 3, and the third value is the intercept of the model that fits class 3 versus classes 1 and 2"
      ],
      "metadata": {
        "id": "dUlvBLpzU8lT"
      }
    },
    {
      "cell_type": "code",
      "source": [
        "lr.intercept_"
      ],
      "metadata": {
        "colab": {
          "base_uri": "https://localhost:8080/"
        },
        "id": "p896ewjHVGfy",
        "outputId": "9457862c-385c-4eb4-ab9a-cfa2813c4ebc"
      },
      "execution_count": 10,
      "outputs": [
        {
          "output_type": "execute_result",
          "data": {
            "text/plain": [
              "array([-1.2634026 , -1.21599305, -2.3702738 ])"
            ]
          },
          "metadata": {},
          "execution_count": 10
        }
      ]
    },
    {
      "cell_type": "markdown",
      "source": [
        "The weight array that we accessed via the lr.coef_ attribute contains three rows of weight coefficients,\n",
        "one weight vector for each class. Each row consists of 13 weights, where each weight is multiplied by\n",
        "the respective feature in the 13-dimensional Wine dataset to calculate the net input"
      ],
      "metadata": {
        "id": "Plraeoq_VKL7"
      }
    },
    {
      "cell_type": "code",
      "source": [
        "lr.coef_"
      ],
      "metadata": {
        "colab": {
          "base_uri": "https://localhost:8080/"
        },
        "id": "6aG0j_gcVUY0",
        "outputId": "a02128be-2a25-4173-9cdb-57e690e123e8"
      },
      "execution_count": 11,
      "outputs": [
        {
          "output_type": "execute_result",
          "data": {
            "text/plain": [
              "array([[ 1.24519932,  0.18126662,  0.74172742, -1.15980858,  0.        ,\n",
              "         0.        ,  1.17640155,  0.        ,  0.        ,  0.        ,\n",
              "         0.        ,  0.54195416,  2.51134343],\n",
              "       [-1.53696948, -0.38732181, -0.9953577 ,  0.36499753, -0.0595755 ,\n",
              "         0.        ,  0.66816423,  0.        ,  0.        , -1.9338564 ,\n",
              "         1.23417798,  0.        , -2.23230968],\n",
              "       [ 0.13554028,  0.16838451,  0.35728029,  0.        ,  0.        ,\n",
              "         0.        , -2.43785273,  0.        ,  0.        ,  1.56393282,\n",
              "        -0.81904096, -0.49261412,  0.        ]])"
            ]
          },
          "metadata": {},
          "execution_count": 11
        }
      ]
    }
  ]
}