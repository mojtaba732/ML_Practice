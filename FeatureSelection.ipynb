{
  "nbformat": 4,
  "nbformat_minor": 0,
  "metadata": {
    "colab": {
      "name": "FeatureSelection.ipynb",
      "provenance": [],
      "authorship_tag": "ABX9TyOpP2HaK38c942vlb+h/Zx6",
      "include_colab_link": true
    },
    "kernelspec": {
      "name": "python3",
      "display_name": "Python 3"
    },
    "language_info": {
      "name": "python"
    }
  },
  "cells": [
    {
      "cell_type": "markdown",
      "metadata": {
        "id": "view-in-github",
        "colab_type": "text"
      },
      "source": [
        "<a href=\"https://colab.research.google.com/github/mojtaba732/ML_Practice/blob/main/FeatureSelection.ipynb\" target=\"_parent\"><img src=\"https://colab.research.google.com/assets/colab-badge.svg\" alt=\"Open In Colab\"/></a>"
      ]
    },
    {
      "cell_type": "markdown",
      "source": [
        "Sequential feature selection algorithms are a family of greedy search algorithms that are used to\n",
        "reduce an initial d-dimensional feature space to a k-dimensional feature subspace where k<d."
      ],
      "metadata": {
        "id": "8dNkCpb-YTsa"
      }
    },
    {
      "cell_type": "markdown",
      "source": [
        "# **sequential backward selection (SBS)**"
      ],
      "metadata": {
        "id": "DCZdq7MSZHc6"
      }
    },
    {
      "cell_type": "markdown",
      "source": [
        "The idea behind the SBS algorithm is quite simple: SBS sequentially removes features from the full\n",
        "feature subset until the new feature subspace contains the desired number of features. To determine\n",
        "which feature is to be removed at each stage, we need to define the criterion function, J, that we want\n",
        "to minimize."
      ],
      "metadata": {
        "id": "XLx6lyzJZNVS"
      }
    },
    {
      "cell_type": "code",
      "source": [
        "from sklearn.base import clone\n",
        "from itertools import combinations\n",
        "import numpy as np\n",
        "from sklearn.metrics import accuracy_score\n",
        "from sklearn.model_selection import train_test_split"
      ],
      "metadata": {
        "id": "9JXvAObPZ6Ik"
      },
      "execution_count": 1,
      "outputs": []
    }
  ]
}